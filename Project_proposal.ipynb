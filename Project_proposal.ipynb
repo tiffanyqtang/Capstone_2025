{
 "cells": [
  {
   "cell_type": "markdown",
   "id": "e1ce3a9c",
   "metadata": {},
   "source": [
    "## Project Proposal"
   ]
  },
  {
   "cell_type": "markdown",
   "id": "19720494",
   "metadata": {},
   "source": [
    "### Integrative Analysis of the Cervicovaginal Microbiome and Systemic Inflammation in HPV Persistence among Nigerian Women\n",
    "\n",
    "#### By Tiffany Tang in collaboration with Mykhalo Usyk"
   ]
  },
  {
   "cell_type": "markdown",
   "id": "dff2c71a",
   "metadata": {},
   "source": [
    "**State the problem**: Persistent infection with high-risk human papillomavirus (hrHPV), particularly types 16 and 18, is a major driver of cervical cancer. However, not all hrHPV infections persist; many are cleared naturally. Understanding the factors that influence viral persistence is critical for identifying individuals at elevated risk. This project investigates how the cervicovaginal microbiome and systemic inflammatory cytokines impact the persistence or clearance of hrHPV in a Nigerian cohort.\n"
   ]
  },
  {
   "cell_type": "markdown",
   "id": "53fdc7d4",
   "metadata": {},
   "source": [
    "**What’s its biological relevance:** Cervical cancer remains a significant cause of morbidity and mortality, particularly in sub-Saharan Africa. The biological mechanisms by which the host immune environment and microbiome influence HPV infection outcomes are not fully understood. Identifying microbial or cytokine biomarkers predictive of hrHPV persistence could improve early detection and stratification of high-risk individuals, and potentially guide targeted interventions or vaccine development.\n"
   ]
  },
  {
   "cell_type": "markdown",
   "id": "bb079c3d",
   "metadata": {},
   "source": [
    "**Where are the resources for analysis:** This project will leverage a rich, multi-layered dataset that includes:\n",
    "- ~2,000 cervicovaginal samples with 16S rRNA V4 amplicon sequencing (FASTQ format)\n",
    "\n",
    "\n",
    "- Serum cytokine data (~30 analytes) for ~900 samples\n",
    "\n",
    "\n",
    "- hrHPV PCR results (presence/absence of types 16 and 18)\n",
    "\n",
    "\n",
    "- Clinical and demographic metadata (e.g., age, parity, sexual history, contraceptive use)\n",
    "\n",
    "\n",
    "- All raw sequencing data and metadata are housed on a secure high-performance computing (HPC) cluster.\n"
   ]
  },
  {
   "cell_type": "markdown",
   "id": "76384ae6",
   "metadata": {},
   "source": [
    "**What tools exist for analysis:** The project will use a combination of R and Python tools:\n",
    "R packages:\n",
    "\n",
    "\n",
    "- DADA2 for ASV inference and taxonomy assignment\n",
    "\n",
    "\n",
    "- phyloseq, vegan, and ggplot2 for diversity analysis, ordination, and visualization\n",
    "\n",
    "\n",
    "- DESeq2 or ANCOM-BC for differential abundance testing\n",
    "\n",
    "\n",
    "Python libraries:\n",
    "\n",
    "\n",
    "- pandas and numpy for data handling\n",
    "\n",
    "\n",
    "- scikit-learn for predictive modeling (random forest, logistic regression)\n",
    "\n",
    "\n",
    "Data integration (microbiome + cytokines) and correlation network analyses will also be performed using these tools.\n"
   ]
  },
  {
   "cell_type": "markdown",
   "id": "447632ea",
   "metadata": {},
   "source": [
    "**Why perform analysis:** By combining microbiome profiles and systemic immune signatures, this project aims to uncover host–microbiome interactions that influence hrHPV persistence. Such integrative analyses are underexplored in African populations and can contribute to a more comprehensive understanding of cervical cancer risk. The outcomes may provide candidate biomarkers for prevention, prognosis, and future mechanistic studies."
   ]
  },
  {
   "cell_type": "markdown",
   "id": "80fedb65",
   "metadata": {},
   "source": [
    "**How will you apply your knowledge of NGS, Machine Learning, Transcriptomics, Python and R to the project:** This project will draw upon my training in the following areas:\n",
    "*NGS:* I will process and analyze raw 16S sequencing data using tools like DADA2 and phyloseq, building quality-controlled taxonomic profiles.\n",
    "\n",
    "\n",
    "*Machine Learning:* I will use supervised models (e.g., random forests) to predict HPV persistence based on microbial and cytokine features.\n",
    "\n",
    "\n",
    "*Transcriptomics:* Although this project is not based on RNA-seq, the principles of high-dimensional data normalization, integration, and differential expression analysis (e.g., DESeq2) are directly applicable to microbiome data.\n",
    "\n",
    "\n",
    "*Python and R:* I will use R for microbiome analysis and visualization, and Python for data integration and machine learning modeling.\n"
   ]
  },
  {
   "cell_type": "markdown",
   "id": "d8b85b4d",
   "metadata": {},
   "source": []
  }
 ],
 "metadata": {
  "kernelspec": {
   "display_name": "Python 3 (ipykernel)",
   "language": "python",
   "name": "python3"
  },
  "language_info": {
   "codemirror_mode": {
    "name": "ipython",
    "version": 3
   },
   "file_extension": ".py",
   "mimetype": "text/x-python",
   "name": "python",
   "nbconvert_exporter": "python",
   "pygments_lexer": "ipython3",
   "version": "3.11.5"
  }
 },
 "nbformat": 4,
 "nbformat_minor": 5
}
